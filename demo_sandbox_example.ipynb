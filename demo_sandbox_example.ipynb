{
 "cells": [
  {
   "cell_type": "markdown",
   "id": "081c1d34",
   "metadata": {},
   "source": [
    "# Narnian DEMO\n",
    "During this experience, we will face some classical tasks in signal processing to introduce the world of NARNIAN. This tutorial will help the user to understand some basic interactions that can happen among different Agents, presenting a framework that is general and open to customization. We will define the Environment, its Streams and the behaviors of its inhabitant by defining Finite State Machines and we will also visualize the interactions among those agents through an online viewer.\n",
    "\n",
    "In the [first example](#One-signal,-one-repetition) we will show the case in which the Teacher shows the Student a single stream and, after this single repetition, asks him to repeat it. During the [second example](#Fixed-Playlist), the Teacher alternates two signals and finally ask the Student to repeat both of them. Finally, in the [last example](#Complete-Learning-Cycle) we will evaluate the simplest complete scenario in NARNIAN, where the Teacher asks the Student to both replicate the signals and to describe their own output. The lesson from the Teacher is repeated until the Student doesn't met a threshold on a given metric, set by the Teacher. Once the Student reaches the required level on the first signal, the Teacher moves to the second one."
   ]
  },
  {
   "cell_type": "markdown",
   "id": "c1165b54-97fc-44d3-ab3a-9f1e792a0d67",
   "metadata": {},
   "source": [
    "### Prepare the Colab notebook"
   ]
  },
  {
   "cell_type": "markdown",
   "id": "e7fcac81-3616-43d0-9ba0-6fe5fbd25c8b",
   "metadata": {},
   "source": [
    "1\\. Check if we are in Colab and set the default port for the Server."
   ]
  },
  {
   "cell_type": "code",
   "execution_count": null,
   "id": "5438237b-b1b7-4b50-b38b-48e3e14d8342",
   "metadata": {},
   "outputs": [],
   "source": [
    "import sys\n",
    "\n",
    "IN_COLAB = \"google.colab\" in sys.modules\n",
    "PORT = 5001"
   ]
  },
  {
   "cell_type": "markdown",
   "id": "e7745eba-88b3-44f1-9a76-a6db6a4e4d73",
   "metadata": {},
   "source": [
    "The next steps are only required if you want to run this notebook in Google Colab. **IF YOU ARE RUNNING LOCALLY THE NOTEBOOK YOU DON'T NEED TO EXECUTE THE FOLLOWING CELLS**.\\\n",
    "2\\. Clone the repo (don't clone in narnian/ because Colab doesn't like it)"
   ]
  },
  {
   "cell_type": "code",
   "execution_count": null,
   "id": "1119a127-83e1-4754-8df1-c359eca5cee4",
   "metadata": {},
   "outputs": [],
   "source": [
    "if IN_COLAB:\n",
    "    !git clone https://{github_token}@github.com/mela64/narnian.git demo\n",
    "    %cd demo\n",
    "    !pip install -q -r requirements.txt"
   ]
  },
  {
   "cell_type": "markdown",
   "id": "ca53899c-7839-4224-9b79-a743f7f9dd5f",
   "metadata": {},
   "source": [
    "3\\. To serve the Flask server from Colab we need to use a third party service named ngrok:\\\n",
    "To use it follow these steps:\n",
    "- [sign up](https://dashboard.ngrok.com/) to ngrok and get your `Authtoken` (you can get one on the left column of the Dashboard under \"Identity & Access\");\n",
    "- copy that token in the Colab Secrets (the \"key\" icon on the left), name it \"NGROK_TOKEN\" and give it the access to the notebook."
   ]
  },
  {
   "cell_type": "code",
   "execution_count": null,
   "id": "e2fd971d-26eb-48a9-8868-c3eb32015ca7",
   "metadata": {},
   "outputs": [],
   "source": [
    "if IN_COLAB:\n",
    "    !pip install -q pyngrok\n",
    "    \n",
    "    from pyngrok import ngrok\n",
    "    from google.colab import userdata\n",
    "    \n",
    "    ngrok_token = userdata.get('NGROK_TOKEN')\n",
    "    ngrok.set_auth_token(ngrok_token)\n",
    "    # start the ngrok web app listening to the specified PORT\n",
    "    public_url = ngrok.connect(str(PORT)).public_url\n",
    "    print(public_url)"
   ]
  },
  {
   "cell_type": "markdown",
   "id": "496e09b9-ea70-4b90-a3f4-a037c2a69db5",
   "metadata": {},
   "source": [
    "The last cell should have printed the link to the ngrok Web App, we can click it but it won't show nothing if we don't start the Narnian Server before. Now we can go on with the execution of the remaining cells. **IF YOU ARE RUNNING LOCALLY THE NOTEBOOK EXECUTE CELLS FROM HERE**."
   ]
  },
  {
   "cell_type": "markdown",
   "id": "e96c05ae-a5a0-4603-9c75-b6b6b2ffd93a",
   "metadata": {},
   "source": [
    "### Load Dependencies"
   ]
  },
  {
   "cell_type": "code",
   "execution_count": null,
   "id": "931f21f2-5357-49ee-9b3e-2a9e48e08a21",
   "metadata": {},
   "outputs": [],
   "source": [
    "import torch\n",
    "from narnian.model import Model\n",
    "from narnian.attributes import Attributes\n",
    "from modules.networks import PredRNN\n",
    "from modules.networks import GenCTBEInitStateBZeroInput, set_seed\n",
    "from narnian.server import Server\n",
    "from narnian.streams import Stream\n",
    "from narnian.model import EmptyModel\n",
    "from basic.basic_agent import BasicAgent\n",
    "from basic.basic_streams import Sin, Square, CombSin\n",
    "from basic.basic_environment import BasicEnvironment\n",
    "from basic.basic_model_gen4all_pred4all_gd import BasicModel"
   ]
  },
  {
   "cell_type": "markdown",
   "id": "ac253bee-5d78-4268-8a85-21a8b775691a",
   "metadata": {},
   "source": [
    "## One signal, one repetition\n",
    "\n",
    "In this first simple case, the Teacher shows 1000 samples of a target signal and immediately asks the Student to reproduce it."
   ]
  },
  {
   "cell_type": "markdown",
   "id": "ca7ad351",
   "metadata": {},
   "source": [
    "### Define the Environment\n",
    "\n",
    "We create the environment with name 'env' and we also set the title for visualization as 'Demo Signal Sandbox'."
   ]
  },
  {
   "cell_type": "code",
   "execution_count": null,
   "id": "2ac8ff21",
   "metadata": {},
   "outputs": [],
   "source": [
    "env = BasicEnvironment(\"env\", title=\"Demo Signal Sandbox\")\n",
    "env.print_enabled = False  # turn off logging just to speed up the notebook execution\n",
    "device = torch.device(\"cpu\")"
   ]
  },
  {
   "cell_type": "markdown",
   "id": "f53a4ae0",
   "metadata": {},
   "source": [
    "Then we define a new stream which is a combination of 3 Sine waves with random frequencies.\\\n",
    "A stream is characterized by a name, its source (the enviroment in this case) and the stream itself."
   ]
  },
  {
   "cell_type": "code",
   "execution_count": null,
   "id": "96088b27",
   "metadata": {},
   "outputs": [],
   "source": [
    "env.add_stream(Stream.create(name=\"3sin\", creator=env.name, stream=CombSin(f_cap=0.06, c_cap=0.8, delta=0.1, order=3)))"
   ]
  },
  {
   "cell_type": "markdown",
   "id": "821aa569-6622-43a8-94e1-744f715f5724",
   "metadata": {},
   "source": [
    "The Environment has 3 fundamental roles:\n",
    "  1. to create its own streams and enable them to be experienced by agents;\n",
    "  2. to ensure all the agents are aware of the existing streams;\n",
    "  3. to ensure all the agents know each other."
   ]
  },
  {
   "cell_type": "code",
   "execution_count": null,
   "id": "8fa2b96a",
   "metadata": {},
   "outputs": [],
   "source": [
    "env.add_transit(\"init\", \"streams_enabled\", action=\"enable_all_streams\")\n",
    "env.add_transit(\"streams_enabled\", \"streams_sent\", action=\"send_streams_to_all\")\n",
    "env.add_transit(\"streams_sent\", \"ready\", action=\"send_agents_to_all\")"
   ]
  },
  {
   "cell_type": "markdown",
   "id": "b41e0a2d",
   "metadata": {},
   "source": [
    "### Define the Teacher agent\n",
    "\n",
    "We define the agent that will act the role of the Teacher in this demo.\n",
    "\n",
    "Since each agent is characterized by a name, a model and its autority within the environment, we can now define the teacher agent as follows:\n",
    "- Name: 'Teacher'\n",
    "- Model: A dummy model\n",
    "- Authority: 1 (the highest)"
   ]
  },
  {
   "cell_type": "code",
   "execution_count": null,
   "id": "d9e41905",
   "metadata": {},
   "outputs": [],
   "source": [
    "teacher = BasicAgent(\"Teacher\", model=EmptyModel(), authority=1.0)\n",
    "teacher.print_enabled = False  # turn off logging just to speed up the notebook execution"
   ]
  },
  {
   "cell_type": "markdown",
   "id": "a8492ebf",
   "metadata": {},
   "source": [
    "Let's define the FSM of the teacher agent...\n",
    "\n",
    "1\\. Let the teacher agent know that the streams are now available. (init -> got_streams) _Rember that in the enviroment FSM we have enabled the streams_"
   ]
  },
  {
   "cell_type": "code",
   "execution_count": null,
   "id": "04128136",
   "metadata": {},
   "outputs": [],
   "source": [
    "teacher.add_transit(\"init\", \"got_streams\", action=\"get_streams\")"
   ]
  },
  {
   "cell_type": "markdown",
   "id": "1bef6b54",
   "metadata": {},
   "source": [
    "2\\. Now the Teacher is aware of the streams but doesn't know the other agents. "
   ]
  },
  {
   "cell_type": "code",
   "execution_count": null,
   "id": "265c4d4c",
   "metadata": {},
   "outputs": [],
   "source": [
    "teacher.add_transit(\"got_streams\", \"got_agents\", action=\"get_agents\")"
   ]
  },
  {
   "cell_type": "markdown",
   "id": "c8da0f0c",
   "metadata": {},
   "source": [
    "3\\. The teacher, after knowing the other agents, is ready to record the streams flowing in the enviroment.\n",
    "\n",
    "To identify the streams, we can use the `stream_hash` attribute, in this specific case the associated hash is \"env:3sin\"\n",
    "We decide to record 1000 samples of the stream."
   ]
  },
  {
   "cell_type": "code",
   "execution_count": null,
   "id": "de19afad",
   "metadata": {},
   "outputs": [],
   "source": [
    "teacher.add_transit(\"got_agents\", \"recording1\", action=\"record\", args={\"stream_hash\": env.name + \":3sin\", \"steps\": 1000})"
   ]
  },
  {
   "cell_type": "markdown",
   "id": "c9528f99",
   "metadata": {},
   "source": [
    "The teacher, after recording the streams, start to find for agents to engage.\n",
    "_(Since this action does not imply any change in the FSM, we add a state action with the state recording1)_\n",
    "\n",
    "`min_auth` and the `max_auth` are set to 0.0, meaning that we are waiting for agent with autority strictly equal to 0"
   ]
  },
  {
   "cell_type": "code",
   "execution_count": null,
   "id": "33f36c5a",
   "metadata": {},
   "outputs": [],
   "source": [
    "teacher.add_state_action(\"recording1\", action=\"find_agent_to_engage\", args={\"min_auth\": 0.0, \"max_auth\": 0.0})"
   ]
  },
  {
   "cell_type": "markdown",
   "id": "4455cb74",
   "metadata": {},
   "source": [
    "4\\. When students are found the teacher starts an engagement with them."
   ]
  },
  {
   "cell_type": "code",
   "execution_count": null,
   "id": "f2791fe9",
   "metadata": {},
   "outputs": [],
   "source": [
    "teacher.add_transit(\"recording1\", \"student_found\", action=\"send_engagement\")"
   ]
  },
  {
   "cell_type": "markdown",
   "id": "f2fea856",
   "metadata": {},
   "source": [
    "5\\. All the students which answer with a positive feedback are then engaged in the learning process."
   ]
  },
  {
   "cell_type": "code",
   "execution_count": null,
   "id": "f8433f6f",
   "metadata": {},
   "outputs": [],
   "source": [
    "teacher.add_transit(\"student_found\", \"student_engaged\", action=\"got_engagement\")"
   ]
  },
  {
   "cell_type": "markdown",
   "id": "243d3edc",
   "metadata": {},
   "source": [
    "6\\. The streams are shared with the students."
   ]
  },
  {
   "cell_type": "code",
   "execution_count": null,
   "id": "038ac21c",
   "metadata": {},
   "outputs": [],
   "source": [
    "teacher.add_transit(\"student_engaged\", \"stream_shared\", action=\"share_streams\")"
   ]
  },
  {
   "cell_type": "markdown",
   "id": "315ab6dd",
   "metadata": {},
   "source": [
    "7\\. The teacher asks the students to learn the function (in this case the sin).\n",
    "\n",
    "We set the input-output/descriptor stream to the stream hash of the teacher.\n",
    "We ask to learn for 1000 steps"
   ]
  },
  {
   "cell_type": "code",
   "execution_count": null,
   "id": "328e7567",
   "metadata": {},
   "outputs": [],
   "source": [
    "teacher.add_transit(\"stream_shared\", \"asked_learn\", action=\"ask_learn_gen\",\n",
    "                    args={\"du_hash\": teacher.name + \":recorded1\", \"yhat_hash\": teacher.name + \":recorded1\",\n",
    "                          \"dhat_hash\": teacher.name + \":recorded1\", \"ask_steps\": 1000})"
   ]
  },
  {
   "cell_type": "markdown",
   "id": "3f7cb6e1",
   "metadata": {},
   "source": [
    "8\\. We end up the learning stage and we ask the students to generate the function."
   ]
  },
  {
   "cell_type": "code",
   "execution_count": null,
   "id": "b9d96bec",
   "metadata": {},
   "outputs": [],
   "source": [
    "teacher.add_transit(\"asked_learn\", \"done_learn\", action=\"done_learn_gen\")\n",
    "teacher.add_transit(\"done_learn\", \"asked_gen\", action=\"ask_gen\",\n",
    "                    args={\"du_hash\": teacher.name + \":recorded1\", \"dhat_hash\": teacher.name + \":recorded1\", \"ask_steps\": 1000})"
   ]
  },
  {
   "cell_type": "markdown",
   "id": "3a2066fe",
   "metadata": {},
   "source": [
    "9\\. We end up the process and move to the end state."
   ]
  },
  {
   "cell_type": "code",
   "execution_count": null,
   "id": "9fd665ed",
   "metadata": {},
   "outputs": [],
   "source": [
    "teacher.add_transit(\"asked_gen\", \"finished\", action=\"done_gen\")"
   ]
  },
  {
   "cell_type": "markdown",
   "id": "3b1ab616",
   "metadata": {},
   "source": [
    "At this point we can add the Teacher to the environment."
   ]
  },
  {
   "cell_type": "code",
   "execution_count": null,
   "id": "c89cd539",
   "metadata": {},
   "outputs": [],
   "source": [
    "env.add_agent(teacher)"
   ]
  },
  {
   "cell_type": "markdown",
   "id": "9435b72d",
   "metadata": {},
   "source": [
    "### Define a student agent\n",
    "\n",
    "The Student is nothing but a different instance of a NARNIAN Agent, so it will be defined similarly to the Teacher case. The main difference is that in this case we will use the another Model that we'll inspect later and the Student's authority will be set to 0:\n",
    "- Name: 'Student'\n",
    "- Model: BasicModel\n",
    "- Authority: 0 (the lowest)"
   ]
  },
  {
   "cell_type": "code",
   "execution_count": null,
   "id": "b88d7748",
   "metadata": {},
   "outputs": [],
   "source": [
    "student = BasicAgent(\"Student\", model=BasicModel(attributes=env.shared_attributes, lr=0.001, device=device, seed=4), authority=0.0)\n",
    "student.print_enabled = False  # turn off logging just to speed up the notebook execution"
   ]
  },
  {
   "cell_type": "markdown",
   "id": "f2fa35f4",
   "metadata": {},
   "source": [
    "We now set its FSM...\n",
    "\n",
    "1. the Student starts by acquiring the information of which streams are circulating in the enviroment;\n",
    "2. the Student knows who are the other agents in the environment;\n",
    "3. the Student is ready to engage with a Teacher (notice now that we are looking for `min_auth` and `max_auth` equal to 1);\n",
    "4. after the engagement with a Teacher, the Student receives information about the streams available from that Teacher;\n",
    "5. the Student go through the learning phase;\n",
    "6. the Student generates back the signal. "
   ]
  },
  {
   "cell_type": "code",
   "execution_count": null,
   "id": "1387b177-2b5c-47c1-9079-0a554f370ecf",
   "metadata": {},
   "outputs": [],
   "source": [
    "student.add_transit(\"init\", \"got_streams\", action=\"get_streams\")\n",
    "student.add_transit(\"got_streams\", \"got_agents\", action=\"get_agents\")\n",
    "student.add_transit(\"got_agents\", \"teacher_engaged\", action=\"get_engagement\", args={\"min_auth\": 1.0, \"max_auth\": 1.0})\n",
    "student.add_transit(\"teacher_engaged\", \"got_teacher_streams\", action=\"get_streams\")\n",
    "student.add_transit(\"got_teacher_streams\", \"learning\", action=\"do_learn_gen\")\n",
    "student.add_transit(\"got_teacher_streams\", \"generated\", action=\"do_gen\")\n",
    "student.add_transit(\"learning\", \"got_teacher_streams\", action=\"nop\")\n",
    "student.add_transit(\"generated\", \"got_teacher_streams\", action=\"nop\")"
   ]
  },
  {
   "cell_type": "markdown",
   "id": "91ff4406-ce02-452b-acc8-8a42a4c16720",
   "metadata": {},
   "source": [
    "#### Inside the Student Agent\n",
    "\n",
    "Behind every agent there is a Model that generally consists of a **generator** and a **predictor**. The Teacher used a placeholder `EmptyModel` that does nothing; for the Student we use the `BasicModel` composed by the following parts:\n",
    "- `CTBE`: A Structured State Space Model exploiting Unitary matrices to produce perpetual oscillations (used as *Generator*);\n",
    "- `PredRNN`: A simple rnn model processing the *Generator*'s output online to produce its descriptor (used as *Predictor*).\n",
    "\n",
    "Along the model's definition, BasicModel includes also the `learn` method which, in this specific case, it is implemented as a common online GD training step."
   ]
  },
  {
   "cell_type": "raw",
   "id": "9cc93021-e1ae-450a-8992-0f6e29f9a951",
   "metadata": {},
   "source": [
    "class BasicModel(Model):\n",
    "\n",
    "    def __init__(self, attributes: list[Attributes], h_dim: tuple[int] = (500, 10), delta: float = 0.1,\n",
    "                 cnu_memories: int = 0, lr: float = 0.0001, device: torch.device = torch.device(\"cpu\"), seed: int = -1):\n",
    "        \"\"\"Creates a model composed of a generator and a predictor.\"\"\"\n",
    "\n",
    "        # getting shape info from attributes (it is needed to build the generator/predictor)\n",
    "        assert len(attributes) == 2, \"Only two attributes are supported/expected (about y and d)\"\n",
    "        u_shape = attributes[0].shape\n",
    "        d_dim = attributes[1].shape.numel()\n",
    "        y_dim = attributes[0].shape.numel()\n",
    "        set_seed(seed)\n",
    "\n",
    "        generator = GenCTBEInitStateBZeroInput(u_shape=u_shape, d_dim=d_dim, y_dim=y_dim, h_dim=h_dim[0], delta=delta,\n",
    "                                               local=False, cnu_memories=cnu_memories)\n",
    "        predictor = PredRNN(y_dim=y_dim, d_dim=d_dim, h_dim=h_dim[1])\n",
    "\n",
    "        # creating the model (superclass)\n",
    "        super(BasicModel, self).__init__(generator, predictor, attributes, device=device)\n",
    "\n",
    "        # extra stuff\n",
    "        self.optim = torch.optim.SGD(list(self.generator.parameters()) + list(self.predictor.parameters()), lr=lr)\n",
    "        self.loss_gen = torch.nn.functional.mse_loss\n",
    "        self.loss_pred = torch.nn.functional.mse_loss\n",
    "\n",
    "    def learn(self,\n",
    "              y: torch.Tensor | None, yhat: torch.Tensor | None,\n",
    "              d: torch.Tensor | None, dhat: torch.Tensor | None) \\\n",
    "            -> tuple[float, torch.Tensor | None, torch.Tensor | None, torch.Tensor | None, torch.Tensor | None]:\n",
    "        \"\"\"Learn from different types of data (some of them could be None).\"\"\"\n",
    "\n",
    "        # clean arguments, ensuring that what should be forced to None is actually forced to None\n",
    "        _, y, yhat, d, dhat = super().learn(y, yhat, d, dhat)  # it seems unuseful, but IT MUST be called!\n",
    "\n",
    "        # evaluating loss function\n",
    "        loss = ((self.loss_gen(y, yhat) if yhat is not None else 0.) +\n",
    "                (self.loss_pred(d, dhat) if dhat is not None else 0.))\n",
    "\n",
    "        # learning\n",
    "        self.optim.zero_grad()\n",
    "        loss_as_float = loss.item()\n",
    "        loss.backward()\n",
    "        self.optim.step()\n",
    "\n",
    "        return loss_as_float, y, yhat, d, dhat"
   ]
  },
  {
   "cell_type": "markdown",
   "id": "637575ee",
   "metadata": {},
   "source": [
    "Add the Student to the environment and start a server to visualize it. Then run the simulation."
   ]
  },
  {
   "cell_type": "code",
   "execution_count": null,
   "id": "bebc4bd9",
   "metadata": {
    "scrolled": true
   },
   "outputs": [],
   "source": [
    "env.add_agent(student)\n",
    "Server(env=env, port=PORT)\n",
    "env.run()"
   ]
  },
  {
   "cell_type": "markdown",
   "id": "1a3a7440-2ba5-4a11-b944-73ef60026c68",
   "metadata": {},
   "source": [
    "## Fixed Playlist\n",
    "\n",
    "<a id='second_example'></a>\n",
    "\n",
    "In this case, we are creating a Sandbox in which the Teacher has 2 different stream samples available for its Students.\\\n",
    "The lesson is structured as a playlist in which the Teacher provides the supervision, alternating the two signals.\\\n",
    "After 5 repetitions of each signal, the Student is asked to reproduce both of them."
   ]
  },
  {
   "cell_type": "markdown",
   "id": "fafed38a-6074-40f0-bfad-29f562330f1e",
   "metadata": {},
   "source": [
    "### Adapt the Environment\n",
    "\n",
    "We need to:\n",
    "1. remove the Agents before we create the new ones;\n",
    "2. add the new signal;\n",
    "3. reset the state of the Environment to the Init state of its FSM."
   ]
  },
  {
   "cell_type": "code",
   "execution_count": null,
   "id": "37e30926",
   "metadata": {},
   "outputs": [],
   "source": [
    "env.remove_all_agents()\n",
    "env.add_stream(Stream.create(name=\"square\", creator=env.name, stream=Square(freq=0.06, ampl=0.5, phase=0.5, delta=0.1)))\n",
    "env.behav.reset_state()"
   ]
  },
  {
   "cell_type": "markdown",
   "id": "c46f100a-9453-45a1-a1f0-96e49fcaae4a",
   "metadata": {},
   "source": [
    "### Create the new Teacher\n",
    "\n",
    "We start as in the previous case but then we also record the second signal."
   ]
  },
  {
   "cell_type": "code",
   "execution_count": null,
   "id": "d2a1f509-a936-475b-a3c8-072950dd11a5",
   "metadata": {},
   "outputs": [],
   "source": [
    "teacher = BasicAgent(\"Teacher\", model=EmptyModel(), authority=1.0)\n",
    "teacher.print_enabled = False  # turn off logging just to speed up the notebook execution\n",
    "teacher.add_transit(\"init\", \"got_streams\", action=\"get_streams\")\n",
    "teacher.add_transit(\"got_streams\", \"got_agents\", action=\"get_agents\")\n",
    "teacher.add_transit(\"got_agents\", \"recording1\", action=\"record\", args={\"stream_hash\": env.name + \":3sin\", \"steps\": 1000})\n",
    "teacher.add_transit(\"recording1\", \"recording2\", action=\"record\", args={\"stream_hash\": env.name + \":square\", \"steps\": 1000})"
   ]
  },
  {
   "cell_type": "markdown",
   "id": "1dff500e-9e94-4d8b-a079-a6acd3ae0df6",
   "metadata": {},
   "source": [
    "#### Create the Playlist\n",
    "\n",
    "Once all the streams have been recorded we can arrange the playlist, setting 5 repetitions supervised from the Teacher and a final request for generation (5+1)."
   ]
  },
  {
   "cell_type": "code",
   "execution_count": null,
   "id": "cc62f17f-53d1-42b0-848e-73134dd7abfd",
   "metadata": {},
   "outputs": [],
   "source": [
    "teacher.add_transit(\"recording2\", \"playlist_ready\", action=\"set_pref_streams\",\n",
    "                    args={\"stream_hashes\": [teacher.name + \":recorded1\", teacher.name + \":recorded2\"], \"repeat\": 5+1})\n",
    "\n",
    "teacher.add_state_action(\"playlist_ready\", action=\"find_agent_to_engage\", args={\"min_auth\": 0.0, \"max_auth\": 0.0})"
   ]
  },
  {
   "cell_type": "markdown",
   "id": "017cd312-e0ad-4fac-a537-b23ab557084a",
   "metadata": {},
   "source": [
    "Then we engage the student before we can start the lesson."
   ]
  },
  {
   "cell_type": "code",
   "execution_count": null,
   "id": "66b2e423-03c4-45b5-8983-9116fb083775",
   "metadata": {},
   "outputs": [],
   "source": [
    "teacher.add_transit(\"playlist_ready\", \"student_found\", action=\"send_engagement\")\n",
    "teacher.add_transit(\"student_found\", \"playlist_ready\", action=\"nop\")\n",
    "teacher.add_transit(\"student_found\", \"student_engaged\", action=\"got_engagement\")\n",
    "teacher.add_transit(\"student_engaged\", \"stream_shared\", action=\"share_streams\")"
   ]
  },
  {
   "cell_type": "markdown",
   "id": "49105732-1f0f-4bf6-b183-060619d2707c",
   "metadata": {},
   "source": [
    "We ask the Student to learn to generate."
   ]
  },
  {
   "cell_type": "code",
   "execution_count": null,
   "id": "8515c3d3-ed57-4a8f-89d5-dffe361a9104",
   "metadata": {},
   "outputs": [],
   "source": [
    "teacher.add_transit(\"stream_shared\", \"asked_learn\", action=\"ask_learn_gen\",\n",
    "                    args={\"du_hash\": \"<playlist>\", \"yhat_hash\": \"<playlist>\", \"dhat_hash\": \"<playlist>\",\n",
    "                          \"ask_steps\": 1000})\n",
    "teacher.add_transit(\"asked_learn\", \"done_learn\", action=\"done_learn_gen\")"
   ]
  },
  {
   "cell_type": "markdown",
   "id": "05e8e496-c592-4ef4-8518-9cf93ac8fdbf",
   "metadata": {},
   "source": [
    "#### Conditionally determine the next State\n",
    "\n",
    "Go to the next Stream in the Playlist and check two options:\n",
    "- if we are not yet in the last round of repetitions, go back to the `stream_shared` state and ask for learning;\n",
    "- otherwise jump to the `ready_to_ask` state and ask for unsupervised generation."
   ]
  },
  {
   "cell_type": "code",
   "execution_count": null,
   "id": "9b87fa3b-b228-4b42-aa49-3f4805048caa",
   "metadata": {},
   "outputs": [],
   "source": [
    "teacher.behav.add_state_action(\"done_learn\", action=\"next_pref_stream\")\n",
    "teacher.behav.add_transit(\"done_learn\", \"stream_shared\", action=\"check_pref_stream\", args={\"what\": \"not_last_round\"})\n",
    "teacher.behav.add_transit(\"done_learn\", \"ready_to_ask\", action=\"check_pref_stream\", args={\"what\": \"last_round\"})"
   ]
  },
  {
   "cell_type": "markdown",
   "id": "f69c98e9-7bcf-4df9-af76-63586c2dc2fd",
   "metadata": {},
   "source": [
    "Coming out from this loop, we ask the Student to generate the signals without supervision."
   ]
  },
  {
   "cell_type": "code",
   "execution_count": null,
   "id": "6901b70b-16c4-4d85-83f0-d98d3d0722e7",
   "metadata": {},
   "outputs": [],
   "source": [
    "teacher.behav.add_transit(\"ready_to_ask\", \"asked_gen\", action=\"ask_gen\",\n",
    "                          args={\"du_hash\": \"<playlist>\",  \"dhat_hash\": \"<playlist>\", \"ask_steps\": 1000})\n",
    "teacher.behav.add_transit(\"asked_gen\", \"done_gen\", action=\"done_gen\")"
   ]
  },
  {
   "cell_type": "markdown",
   "id": "5d50bc0a-c045-443b-b7ff-7a1125a3f03a",
   "metadata": {},
   "source": [
    "We need to add another check to loop inside the last repetition of the Playlist to play both songs and to go to the `finished` state after the last one."
   ]
  },
  {
   "cell_type": "code",
   "execution_count": null,
   "id": "b50020c7-be00-4570-b782-a28f53b44b01",
   "metadata": {},
   "outputs": [],
   "source": [
    "teacher.behav.add_state_action(\"done_gen\", action=\"next_pref_stream\")\n",
    "teacher.behav.add_transit(\"done_gen\", \"ready_to_ask\", action=\"check_pref_stream\", args={\"what\": \"not_first\"})\n",
    "teacher.behav.add_transit(\"done_gen\", \"finished\", action=\"check_pref_stream\", args={\"what\": \"first\"})\n",
    "\n",
    "env.add_agent(teacher)"
   ]
  },
  {
   "cell_type": "markdown",
   "id": "acf7606d",
   "metadata": {},
   "source": [
    "### Create the new Student"
   ]
  },
  {
   "cell_type": "markdown",
   "id": "9177eef8",
   "metadata": {},
   "source": [
    "As we have done [here](#Define-a-student-agent), we create a student with the same FSM as before and we add it to the environment."
   ]
  },
  {
   "cell_type": "code",
   "execution_count": null,
   "id": "cd3748d1",
   "metadata": {},
   "outputs": [],
   "source": [
    "student = BasicAgent(\"Student\", model=BasicModel(attributes=env.shared_attributes, lr=0.001, device=device, seed=4), authority=0.0)\n",
    "student.print_enabled = False  # turn off logging just to speed up the notebook execution\n",
    "student.add_transit(\"init\", \"got_streams\", action=\"get_streams\")\n",
    "student.add_transit(\"got_streams\", \"got_agents\", action=\"get_agents\")\n",
    "student.add_transit(\"got_agents\", \"teacher_engaged\", action=\"get_engagement\", args={\"min_auth\": 1.0, \"max_auth\": 1.0})\n",
    "student.add_transit(\"teacher_engaged\", \"got_teacher_streams\", action=\"get_streams\")\n",
    "student.add_transit(\"got_teacher_streams\", \"learning\", action=\"do_learn_gen\")\n",
    "student.add_transit(\"got_teacher_streams\", \"generated\", action=\"do_gen\")\n",
    "student.add_transit(\"learning\", \"got_teacher_streams\", action=\"nop\")\n",
    "student.add_transit(\"generated\", \"got_teacher_streams\", action=\"nop\")"
   ]
  },
  {
   "cell_type": "markdown",
   "id": "e03587a8-9be1-4523-bc6e-8f5e98af7369",
   "metadata": {},
   "source": [
    "We add the agent to the environment and run it again."
   ]
  },
  {
   "cell_type": "code",
   "execution_count": null,
   "id": "48f93a27-eecb-43ee-88de-0501931889b2",
   "metadata": {
    "scrolled": true
   },
   "outputs": [],
   "source": [
    "env.add_agent(student)\n",
    "env.run()"
   ]
  },
  {
   "cell_type": "markdown",
   "id": "70ccfd0e-4181-4443-b853-eee16821ed66",
   "metadata": {},
   "source": [
    "## Complete Learning Cycle\n",
    "\n",
    "This scenario encapsulates the simplest complete learning cycle within NARNIAN:\n",
    "- the Teacher provides a lesson through recorded signals;\n",
    "- the Student is tasked with both replicating the provided signal and describing its own output;\n",
    "- continuous evaluation is performed until the Student’s performance meets a defined threshold;\n",
    "- the process is sequential, ensuring that the Teacher moves to the next lesson (signal) only after the successful completion of previous one."
   ]
  },
  {
   "cell_type": "markdown",
   "id": "fc33ac80-89a3-46cc-8cd4-5b7d001f301c",
   "metadata": {},
   "source": [
    "### Adapt the Environment\n",
    "\n",
    "This time we will replace the 3Sin signal with a pure Sine wave, so we need to:\n",
    "1. remove the Agents before we create the new ones;\n",
    "2. remove the old signal and add the new one;\n",
    "3. reset the state of the Environment to the Init state of its FSM."
   ]
  },
  {
   "cell_type": "code",
   "execution_count": null,
   "id": "64b62c80",
   "metadata": {},
   "outputs": [],
   "source": [
    "env.remove_all_agents()\n",
    "env.remove_stream(creator=env.name, name='3sin')\n",
    "env.add_stream(Stream.create(name=\"sin\", creator=env.name, stream=Sin(freq=0.06, phase=0.5, delta=0.1)))\n",
    "env.behav.reset_state()"
   ]
  },
  {
   "cell_type": "markdown",
   "id": "a4386a98",
   "metadata": {},
   "source": [
    "### Define the teacher once again"
   ]
  },
  {
   "cell_type": "code",
   "execution_count": null,
   "id": "df2eee95",
   "metadata": {},
   "outputs": [],
   "source": [
    "teacher = BasicAgent(\"Teacher\", model=EmptyModel(), authority=1.0)\n",
    "teacher.print_enabled = False  # turn off logging just to speed up the notebook execution\n",
    "teacher.add_transit(\"init\", \"got_streams\", action=\"get_streams\")\n",
    "teacher.add_transit(\"got_streams\", \"got_agents\", action=\"get_agents\")\n",
    "teacher.add_transit(\"got_agents\", \"recording1\", action=\"record\",\n",
    "               args={\"stream_hash\": env.name + \":sin\", \"steps\": 1000})\n",
    "teacher.add_transit(\"recording1\", \"recording2\", action=\"record\",\n",
    "               args={\"stream_hash\": env.name + \":square\", \"steps\": 1000})\n",
    "teacher.add_transit(\"recording2\", \"playlist_ready\", action=\"set_pref_streams\",\n",
    "               args={\"stream_hashes\": [teacher.name + \":recorded1\", teacher.name + \":recorded2\"], \"repeat\": 1})\n",
    "teacher.add_state_action(\"playlist_ready\", action=\"find_agent_to_engage\", args={\"min_auth\": 0.0, \"max_auth\": 0.0})\n",
    "teacher.add_transit(\"playlist_ready\", \"student_found\", action=\"send_engagement\")\n",
    "teacher.add_transit(\"student_found\", \"playlist_ready\", action=\"nop\")\n",
    "teacher.add_transit(\"student_found\", \"student_engaged\", action=\"got_engagement\")\n",
    "teacher.add_transit(\"student_engaged\", \"stream_shared\", action=\"share_streams\")"
   ]
  },
  {
   "cell_type": "markdown",
   "id": "dca36c42",
   "metadata": {},
   "source": [
    "#### Learning and Generation phase\n",
    "\n",
    "The Teacher instructs the Student to learn (both generation and prediction) using the playlist data, and then to generate signals, each for 500 steps."
   ]
  },
  {
   "cell_type": "code",
   "execution_count": null,
   "id": "6ef6caf8",
   "metadata": {},
   "outputs": [],
   "source": [
    "teacher.add_transit(\"stream_shared\", \"asked_learn\", action=\"ask_learn_gen_and_pred\",\n",
    "               args={\"du_hash\": \"<playlist>\", \"yhat_hash\": \"<playlist>\", \"dhat_hash\": \"<playlist>\",\n",
    "                     \"ask_steps\": 1000})\n",
    "teacher.add_transit(\"asked_learn\", \"done_learn\", action=\"done_learn_gen_and_pred\")\n",
    "teacher.add_transit(\"done_learn\", \"asked_gen\", action=\"ask_gen_and_pred\",\n",
    "               args={\"du_hash\": \"<playlist>\", \"ask_steps\": 1000})\n",
    "teacher.add_transit(\"asked_gen\", \"done_gen\", action=\"done_gen_and_pred\")"
   ]
  },
  {
   "cell_type": "markdown",
   "id": "0f18cc89",
   "metadata": {},
   "source": [
    "#### Evaluation phase\n",
    "\n",
    "The Teacher evaluates the generated signal by computing the Mean Squared Error (MSE) over 1000 steps. \n",
    "Based on the evaluation result:\n",
    "- If MSE > 0.05, the process loops back to the shared stream state.\n",
    "- If MSE <= 0.05, it moves to a \"good\" state."
   ]
  },
  {
   "cell_type": "code",
   "execution_count": null,
   "id": "54d961dd",
   "metadata": {},
   "outputs": [],
   "source": [
    "teacher.add_state_action(\"done_gen\", action=\"eval\",\n",
    "                    args={\"stream_hash\": \"<playlist>\", \"what\": \"y\", \"how\": \"mse\", \"steps\": 1000})\n",
    "teacher.add_transit(\"done_gen\", \"stream_shared\", action=\"compare_eval\", args={\"cmp\": \">\", \"thres\": 0.05})\n",
    "teacher.add_transit(\"done_gen\", \"good\", action=\"compare_eval\", args={\"cmp\": \"<=\", \"thres\": 0.05})"
   ]
  },
  {
   "cell_type": "markdown",
   "id": "158a6231",
   "metadata": {},
   "source": [
    "#### Playlist progression\n",
    "\n",
    "When in the \"good\" state, the Teacher advances to the next preferred stream.\n",
    "Depending on whether it is the first in the playlist or not, the process either repeats or finishes."
   ]
  },
  {
   "cell_type": "code",
   "execution_count": null,
   "id": "0f483dac",
   "metadata": {},
   "outputs": [],
   "source": [
    "teacher.add_state_action(\"good\", action=\"next_pref_stream\")\n",
    "teacher.add_transit(\"good\", \"stream_shared\", action=\"check_pref_stream\", args={\"what\": \"not_first\"})\n",
    "teacher.add_transit(\"good\", \"finished\", action=\"check_pref_stream\", args={\"what\": \"first\"})"
   ]
  },
  {
   "cell_type": "markdown",
   "id": "ad5dbea8",
   "metadata": {},
   "source": [
    "Add the teacher to the environment."
   ]
  },
  {
   "cell_type": "code",
   "execution_count": null,
   "id": "a00ece7c",
   "metadata": {},
   "outputs": [],
   "source": [
    "env.add_agent(teacher)"
   ]
  },
  {
   "cell_type": "markdown",
   "id": "7163ea98",
   "metadata": {},
   "source": [
    "### Creating the Student"
   ]
  },
  {
   "cell_type": "code",
   "execution_count": null,
   "id": "7a8d3d38-245d-409d-9259-ac8a6a75da73",
   "metadata": {},
   "outputs": [],
   "source": [
    "student = BasicAgent(\"Student\", model=BasicModel(attributes=env.shared_attributes, lr=0.001, device=device, seed=4),\n",
    "                authority=0.0)\n",
    "student.print_enabled = False  # turn off logging just to speed up the notebook execution\n",
    "student.add_transit(\"init\", \"got_streams\", action=\"get_streams\")\n",
    "student.add_transit(\"got_streams\", \"got_agents\", action=\"get_agents\")\n",
    "student.add_transit(\"got_agents\", \"teacher_engaged\", action=\"get_engagement\", args={\"min_auth\": 1.0, \"max_auth\": 1.0})\n",
    "student.add_transit(\"teacher_engaged\", \"got_teacher_streams\", action=\"get_streams\")\n",
    "student.add_transit(\"got_teacher_streams\", \"learning\", action=\"do_learn_gen_and_pred\")\n",
    "student.add_transit(\"got_teacher_streams\", \"generated\", action=\"do_gen_and_pred\")\n",
    "student.add_transit(\"learning\", \"got_teacher_streams\", action=\"nop\")\n",
    "student.add_transit(\"generated\", \"got_teacher_streams\", action=\"nop\")"
   ]
  },
  {
   "cell_type": "code",
   "execution_count": null,
   "id": "1a575630",
   "metadata": {},
   "outputs": [],
   "source": [
    "env.add_agent(student)\n",
    "env.run()"
   ]
  }
 ],
 "metadata": {
  "kernelspec": {
   "display_name": "Python 3 (ipykernel)",
   "language": "python",
   "name": "python3"
  },
  "language_info": {
   "codemirror_mode": {
    "name": "ipython",
    "version": 3
   },
   "file_extension": ".py",
   "mimetype": "text/x-python",
   "name": "python",
   "nbconvert_exporter": "python",
   "pygments_lexer": "ipython3",
   "version": "3.12.9"
  }
 },
 "nbformat": 4,
 "nbformat_minor": 5
}
